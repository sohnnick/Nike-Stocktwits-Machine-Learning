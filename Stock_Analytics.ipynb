{
 "cells": [
  {
   "cell_type": "code",
   "execution_count": 33,
   "metadata": {},
   "outputs": [
    {
     "name": "stderr",
     "output_type": "stream",
     "text": [
      "[nltk_data] Downloading package stopwords to\n",
      "[nltk_data]     /Users/sohnnick/nltk_data...\n",
      "[nltk_data]   Package stopwords is already up-to-date!\n"
     ]
    }
   ],
   "source": [
    "import pandas as pd\n",
    "import numpy as np\n",
    "import json\n",
    "from datetime import datetime\n",
    "import nltk\n",
    "from nltk.corpus import stopwords\n",
    "nltk.download('stopwords')\n",
    "from nltk.tokenize import word_tokenize\n",
    "from dateutil.parser import parse\n",
    "from sklearn.naive_bayes import GaussianNB\n",
    "from sklearn.linear_model import LogisticRegression\n",
    "from sklearn.feature_selection import chi2\n",
    "import sklearn"
   ]
  },
  {
   "cell_type": "markdown",
   "metadata": {},
   "source": [
    "***Read in CSV Files***"
   ]
  },
  {
   "cell_type": "code",
   "execution_count": 61,
   "metadata": {},
   "outputs": [
    {
     "data": {
      "text/html": [
       "<div>\n",
       "<style scoped>\n",
       "    .dataframe tbody tr th:only-of-type {\n",
       "        vertical-align: middle;\n",
       "    }\n",
       "\n",
       "    .dataframe tbody tr th {\n",
       "        vertical-align: top;\n",
       "    }\n",
       "\n",
       "    .dataframe thead th {\n",
       "        text-align: right;\n",
       "    }\n",
       "</style>\n",
       "<table border=\"1\" class=\"dataframe\">\n",
       "  <thead>\n",
       "    <tr style=\"text-align: right;\">\n",
       "      <th></th>\n",
       "      <th>Date</th>\n",
       "      <th>OPEN</th>\n",
       "      <th>HIGH</th>\n",
       "      <th>LOW</th>\n",
       "      <th>VOLUME</th>\n",
       "      <th>CLOSE</th>\n",
       "      <th>rt3</th>\n",
       "      <th>rt5</th>\n",
       "    </tr>\n",
       "  </thead>\n",
       "  <tbody>\n",
       "    <tr>\n",
       "      <td>0</td>\n",
       "      <td>2013-08-26</td>\n",
       "      <td>30.810515</td>\n",
       "      <td>30.968887</td>\n",
       "      <td>30.676139</td>\n",
       "      <td>5472400</td>\n",
       "      <td>30.676139</td>\n",
       "      <td>-0.003582</td>\n",
       "      <td>0.009133</td>\n",
       "    </tr>\n",
       "    <tr>\n",
       "      <td>1</td>\n",
       "      <td>2013-08-27</td>\n",
       "      <td>30.359395</td>\n",
       "      <td>30.589756</td>\n",
       "      <td>30.133837</td>\n",
       "      <td>4870800</td>\n",
       "      <td>30.143435</td>\n",
       "      <td>0.003485</td>\n",
       "      <td>0.040384</td>\n",
       "    </tr>\n",
       "    <tr>\n",
       "      <td>2</td>\n",
       "      <td>2013-08-28</td>\n",
       "      <td>30.100242</td>\n",
       "      <td>30.570559</td>\n",
       "      <td>30.066649</td>\n",
       "      <td>6044000</td>\n",
       "      <td>30.412186</td>\n",
       "      <td>0.017891</td>\n",
       "      <td>0.035149</td>\n",
       "    </tr>\n",
       "    <tr>\n",
       "      <td>3</td>\n",
       "      <td>2013-08-29</td>\n",
       "      <td>30.330330</td>\n",
       "      <td>30.749243</td>\n",
       "      <td>30.277363</td>\n",
       "      <td>4600000</td>\n",
       "      <td>30.566269</td>\n",
       "      <td>0.025992</td>\n",
       "      <td>0.023630</td>\n",
       "    </tr>\n",
       "    <tr>\n",
       "      <td>4</td>\n",
       "      <td>2013-08-30</td>\n",
       "      <td>30.677016</td>\n",
       "      <td>30.715537</td>\n",
       "      <td>30.142539</td>\n",
       "      <td>5851000</td>\n",
       "      <td>30.248472</td>\n",
       "      <td>0.040751</td>\n",
       "      <td>0.041070</td>\n",
       "    </tr>\n",
       "  </tbody>\n",
       "</table>\n",
       "</div>"
      ],
      "text/plain": [
       "         Date       OPEN       HIGH        LOW   VOLUME      CLOSE       rt3  \\\n",
       "0  2013-08-26  30.810515  30.968887  30.676139  5472400  30.676139 -0.003582   \n",
       "1  2013-08-27  30.359395  30.589756  30.133837  4870800  30.143435  0.003485   \n",
       "2  2013-08-28  30.100242  30.570559  30.066649  6044000  30.412186  0.017891   \n",
       "3  2013-08-29  30.330330  30.749243  30.277363  4600000  30.566269  0.025992   \n",
       "4  2013-08-30  30.677016  30.715537  30.142539  5851000  30.248472  0.040751   \n",
       "\n",
       "        rt5  \n",
       "0  0.009133  \n",
       "1  0.040384  \n",
       "2  0.035149  \n",
       "3  0.023630  \n",
       "4  0.041070  "
      ]
     },
     "execution_count": 61,
     "metadata": {},
     "output_type": "execute_result"
    }
   ],
   "source": [
    "df_metricsandvalue = pd.read_csv(\"df_stockmovement.csv\")\n",
    "df_metricsandvalue = df_metricsandvalue.loc[:, 'Date':'rt5']\n",
    "df_metricsandvalue.head(5)"
   ]
  },
  {
   "cell_type": "code",
   "execution_count": 62,
   "metadata": {},
   "outputs": [
    {
     "data": {
      "text/html": [
       "<div>\n",
       "<style scoped>\n",
       "    .dataframe tbody tr th:only-of-type {\n",
       "        vertical-align: middle;\n",
       "    }\n",
       "\n",
       "    .dataframe tbody tr th {\n",
       "        vertical-align: top;\n",
       "    }\n",
       "\n",
       "    .dataframe thead th {\n",
       "        text-align: right;\n",
       "    }\n",
       "</style>\n",
       "<table border=\"1\" class=\"dataframe\">\n",
       "  <thead>\n",
       "    <tr style=\"text-align: right;\">\n",
       "      <th></th>\n",
       "      <th>date</th>\n",
       "      <th>lot</th>\n",
       "      <th>stocks</th>\n",
       "      <th>trading</th>\n",
       "      <th>green</th>\n",
       "      <th>EVP</th>\n",
       "      <th>CFO</th>\n",
       "      <th>cashed-in</th>\n",
       "      <th>options</th>\n",
       "      <th>China</th>\n",
       "      <th>...</th>\n",
       "      <th>Brean</th>\n",
       "      <th>DWTI</th>\n",
       "      <th>lights</th>\n",
       "      <th>7x</th>\n",
       "      <th>5x</th>\n",
       "      <th>E2</th>\n",
       "      <th>https</th>\n",
       "      <th>NKE/</th>\n",
       "      <th>ApparelAndAccessories</th>\n",
       "      <th>0.51</th>\n",
       "    </tr>\n",
       "  </thead>\n",
       "  <tbody>\n",
       "    <tr>\n",
       "      <td>0</td>\n",
       "      <td>2013-12-03</td>\n",
       "      <td>2.655833</td>\n",
       "      <td>1.212015</td>\n",
       "      <td>1.956129</td>\n",
       "      <td>2.134536</td>\n",
       "      <td>3.942044</td>\n",
       "      <td>4.153353</td>\n",
       "      <td>3.094746</td>\n",
       "      <td>1.89897</td>\n",
       "      <td>0.000000</td>\n",
       "      <td>...</td>\n",
       "      <td>0.0</td>\n",
       "      <td>0.0</td>\n",
       "      <td>0.0</td>\n",
       "      <td>0.0</td>\n",
       "      <td>0.0</td>\n",
       "      <td>0.0</td>\n",
       "      <td>0.0</td>\n",
       "      <td>0.0</td>\n",
       "      <td>0.0</td>\n",
       "      <td>0.0</td>\n",
       "    </tr>\n",
       "    <tr>\n",
       "      <td>1</td>\n",
       "      <td>2013-12-04</td>\n",
       "      <td>2.655833</td>\n",
       "      <td>0.000000</td>\n",
       "      <td>0.000000</td>\n",
       "      <td>0.000000</td>\n",
       "      <td>0.000000</td>\n",
       "      <td>0.000000</td>\n",
       "      <td>0.000000</td>\n",
       "      <td>0.00000</td>\n",
       "      <td>2.371446</td>\n",
       "      <td>...</td>\n",
       "      <td>0.0</td>\n",
       "      <td>0.0</td>\n",
       "      <td>0.0</td>\n",
       "      <td>0.0</td>\n",
       "      <td>0.0</td>\n",
       "      <td>0.0</td>\n",
       "      <td>0.0</td>\n",
       "      <td>0.0</td>\n",
       "      <td>0.0</td>\n",
       "      <td>0.0</td>\n",
       "    </tr>\n",
       "    <tr>\n",
       "      <td>2</td>\n",
       "      <td>2013-12-05</td>\n",
       "      <td>0.000000</td>\n",
       "      <td>0.000000</td>\n",
       "      <td>0.000000</td>\n",
       "      <td>0.000000</td>\n",
       "      <td>0.000000</td>\n",
       "      <td>0.000000</td>\n",
       "      <td>0.000000</td>\n",
       "      <td>0.00000</td>\n",
       "      <td>0.000000</td>\n",
       "      <td>...</td>\n",
       "      <td>0.0</td>\n",
       "      <td>0.0</td>\n",
       "      <td>0.0</td>\n",
       "      <td>0.0</td>\n",
       "      <td>0.0</td>\n",
       "      <td>0.0</td>\n",
       "      <td>0.0</td>\n",
       "      <td>0.0</td>\n",
       "      <td>0.0</td>\n",
       "      <td>0.0</td>\n",
       "    </tr>\n",
       "    <tr>\n",
       "      <td>3</td>\n",
       "      <td>2013-12-06</td>\n",
       "      <td>0.000000</td>\n",
       "      <td>0.000000</td>\n",
       "      <td>0.000000</td>\n",
       "      <td>0.000000</td>\n",
       "      <td>0.000000</td>\n",
       "      <td>0.000000</td>\n",
       "      <td>0.000000</td>\n",
       "      <td>0.00000</td>\n",
       "      <td>0.000000</td>\n",
       "      <td>...</td>\n",
       "      <td>0.0</td>\n",
       "      <td>0.0</td>\n",
       "      <td>0.0</td>\n",
       "      <td>0.0</td>\n",
       "      <td>0.0</td>\n",
       "      <td>0.0</td>\n",
       "      <td>0.0</td>\n",
       "      <td>0.0</td>\n",
       "      <td>0.0</td>\n",
       "      <td>0.0</td>\n",
       "    </tr>\n",
       "    <tr>\n",
       "      <td>4</td>\n",
       "      <td>2013-12-07</td>\n",
       "      <td>0.000000</td>\n",
       "      <td>0.000000</td>\n",
       "      <td>0.000000</td>\n",
       "      <td>0.000000</td>\n",
       "      <td>0.000000</td>\n",
       "      <td>0.000000</td>\n",
       "      <td>0.000000</td>\n",
       "      <td>0.00000</td>\n",
       "      <td>0.000000</td>\n",
       "      <td>...</td>\n",
       "      <td>0.0</td>\n",
       "      <td>0.0</td>\n",
       "      <td>0.0</td>\n",
       "      <td>0.0</td>\n",
       "      <td>0.0</td>\n",
       "      <td>0.0</td>\n",
       "      <td>0.0</td>\n",
       "      <td>0.0</td>\n",
       "      <td>0.0</td>\n",
       "      <td>0.0</td>\n",
       "    </tr>\n",
       "  </tbody>\n",
       "</table>\n",
       "<p>5 rows × 1483 columns</p>\n",
       "</div>"
      ],
      "text/plain": [
       "         date       lot    stocks   trading     green       EVP       CFO  \\\n",
       "0  2013-12-03  2.655833  1.212015  1.956129  2.134536  3.942044  4.153353   \n",
       "1  2013-12-04  2.655833  0.000000  0.000000  0.000000  0.000000  0.000000   \n",
       "2  2013-12-05  0.000000  0.000000  0.000000  0.000000  0.000000  0.000000   \n",
       "3  2013-12-06  0.000000  0.000000  0.000000  0.000000  0.000000  0.000000   \n",
       "4  2013-12-07  0.000000  0.000000  0.000000  0.000000  0.000000  0.000000   \n",
       "\n",
       "   cashed-in  options     China  ...  Brean  DWTI  lights   7x   5x   E2  \\\n",
       "0   3.094746  1.89897  0.000000  ...    0.0   0.0     0.0  0.0  0.0  0.0   \n",
       "1   0.000000  0.00000  2.371446  ...    0.0   0.0     0.0  0.0  0.0  0.0   \n",
       "2   0.000000  0.00000  0.000000  ...    0.0   0.0     0.0  0.0  0.0  0.0   \n",
       "3   0.000000  0.00000  0.000000  ...    0.0   0.0     0.0  0.0  0.0  0.0   \n",
       "4   0.000000  0.00000  0.000000  ...    0.0   0.0     0.0  0.0  0.0  0.0   \n",
       "\n",
       "   https  NKE/  ApparelAndAccessories  0.51  \n",
       "0    0.0   0.0                    0.0   0.0  \n",
       "1    0.0   0.0                    0.0   0.0  \n",
       "2    0.0   0.0                    0.0   0.0  \n",
       "3    0.0   0.0                    0.0   0.0  \n",
       "4    0.0   0.0                    0.0   0.0  \n",
       "\n",
       "[5 rows x 1483 columns]"
      ]
     },
     "execution_count": 62,
     "metadata": {},
     "output_type": "execute_result"
    }
   ],
   "source": [
    "df_tfidf = pd.read_csv(\"df_tfidf.csv\")\n",
    "df_tfidf = df_tfidf.loc[:, 'date':'0.51']\n",
    "df_tfidf.head(5)"
   ]
  },
  {
   "cell_type": "code",
   "execution_count": 63,
   "metadata": {},
   "outputs": [
    {
     "data": {
      "text/html": [
       "<div>\n",
       "<style scoped>\n",
       "    .dataframe tbody tr th:only-of-type {\n",
       "        vertical-align: middle;\n",
       "    }\n",
       "\n",
       "    .dataframe tbody tr th {\n",
       "        vertical-align: top;\n",
       "    }\n",
       "\n",
       "    .dataframe thead th {\n",
       "        text-align: right;\n",
       "    }\n",
       "</style>\n",
       "<table border=\"1\" class=\"dataframe\">\n",
       "  <thead>\n",
       "    <tr style=\"text-align: right;\">\n",
       "      <th></th>\n",
       "      <th>date</th>\n",
       "      <th>polarity</th>\n",
       "      <th>st</th>\n",
       "      <th>msgvolume</th>\n",
       "      <th>mv1t</th>\n",
       "      <th>mv10t</th>\n",
       "    </tr>\n",
       "  </thead>\n",
       "  <tbody>\n",
       "    <tr>\n",
       "      <td>0</td>\n",
       "      <td>2013-12-03</td>\n",
       "      <td>0.000000</td>\n",
       "      <td>NaN</td>\n",
       "      <td>2</td>\n",
       "      <td>NaN</td>\n",
       "      <td>NaN</td>\n",
       "    </tr>\n",
       "    <tr>\n",
       "      <td>1</td>\n",
       "      <td>2013-12-04</td>\n",
       "      <td>0.200000</td>\n",
       "      <td>NaN</td>\n",
       "      <td>5</td>\n",
       "      <td>1.500000</td>\n",
       "      <td>NaN</td>\n",
       "    </tr>\n",
       "    <tr>\n",
       "      <td>2</td>\n",
       "      <td>2013-12-05</td>\n",
       "      <td>0.111111</td>\n",
       "      <td>0.103704</td>\n",
       "      <td>9</td>\n",
       "      <td>0.800000</td>\n",
       "      <td>NaN</td>\n",
       "    </tr>\n",
       "    <tr>\n",
       "      <td>3</td>\n",
       "      <td>2013-12-06</td>\n",
       "      <td>0.000000</td>\n",
       "      <td>0.103704</td>\n",
       "      <td>2</td>\n",
       "      <td>-0.777778</td>\n",
       "      <td>NaN</td>\n",
       "    </tr>\n",
       "    <tr>\n",
       "      <td>4</td>\n",
       "      <td>2013-12-07</td>\n",
       "      <td>0.000000</td>\n",
       "      <td>0.037037</td>\n",
       "      <td>3</td>\n",
       "      <td>0.500000</td>\n",
       "      <td>NaN</td>\n",
       "    </tr>\n",
       "  </tbody>\n",
       "</table>\n",
       "</div>"
      ],
      "text/plain": [
       "         date  polarity        st  msgvolume      mv1t  mv10t\n",
       "0  2013-12-03  0.000000       NaN          2       NaN    NaN\n",
       "1  2013-12-04  0.200000       NaN          5  1.500000    NaN\n",
       "2  2013-12-05  0.111111  0.103704          9  0.800000    NaN\n",
       "3  2013-12-06  0.000000  0.103704          2 -0.777778    NaN\n",
       "4  2013-12-07  0.000000  0.037037          3  0.500000    NaN"
      ]
     },
     "execution_count": 63,
     "metadata": {},
     "output_type": "execute_result"
    }
   ],
   "source": [
    "df_volume = pd.read_csv(\"df_volumemetrics.csv\")\n",
    "df_volume = df_volume.loc[:, 'date':'mv10t']\n",
    "df_volume.head(5)"
   ]
  },
  {
   "cell_type": "markdown",
   "metadata": {},
   "source": [
    "***Naive-Bayes Classification***"
   ]
  },
  {
   "cell_type": "code",
   "execution_count": 64,
   "metadata": {},
   "outputs": [],
   "source": [
    "df_target = df_metricsandvalue[['Date', 'rt3', 'rt5']][:823]\n",
    "df_target.columns = ['date', 'rt3', 'rt5']"
   ]
  },
  {
   "cell_type": "code",
   "execution_count": 65,
   "metadata": {},
   "outputs": [
    {
     "name": "stderr",
     "output_type": "stream",
     "text": [
      "/opt/anaconda3/lib/python3.7/site-packages/ipykernel_launcher.py:2: SettingWithCopyWarning: \n",
      "A value is trying to be set on a copy of a slice from a DataFrame\n",
      "\n",
      "See the caveats in the documentation: http://pandas.pydata.org/pandas-docs/stable/user_guide/indexing.html#returning-a-view-versus-a-copy\n",
      "  \n",
      "/opt/anaconda3/lib/python3.7/site-packages/ipykernel_launcher.py:4: SettingWithCopyWarning: \n",
      "A value is trying to be set on a copy of a slice from a DataFrame\n",
      "\n",
      "See the caveats in the documentation: http://pandas.pydata.org/pandas-docs/stable/user_guide/indexing.html#returning-a-view-versus-a-copy\n",
      "  after removing the cwd from sys.path.\n"
     ]
    }
   ],
   "source": [
    "df_target['rt3'][df_target['rt3'] > 0] = 1\n",
    "df_target['rt3'][df_target['rt3'] <= 0] = 0\n",
    "df_target['rt5'][df_target['rt5'] > 0] = 1\n",
    "df_target['rt5'][df_target['rt5'] <= 0] = 0"
   ]
  },
  {
   "cell_type": "code",
   "execution_count": 66,
   "metadata": {},
   "outputs": [
    {
     "data": {
      "text/plain": [
       "(753, 1485)"
      ]
     },
     "execution_count": 66,
     "metadata": {},
     "output_type": "execute_result"
    }
   ],
   "source": [
    "df_tfidf['date'] = pd.to_datetime(df_tfidf['date'])\n",
    "df_target['date'] = pd.to_datetime(df_target['date'])\n",
    "df_merge = pd.merge(df_tfidf, df_target, on='date', how='inner')\n",
    "df_merge.shape"
   ]
  },
  {
   "cell_type": "code",
   "execution_count": 67,
   "metadata": {},
   "outputs": [
    {
     "data": {
      "text/plain": [
       "753"
      ]
     },
     "execution_count": 67,
     "metadata": {},
     "output_type": "execute_result"
    }
   ],
   "source": [
    "#confirms that the merge worked\n",
    "targetdate = list(df_target['date'])\n",
    "tfidfdate = list(df_tfidf['date'])\n",
    "len(set(targetdate) & set(tfidfdate))"
   ]
  },
  {
   "cell_type": "markdown",
   "metadata": {},
   "source": [
    "Feature Selection"
   ]
  },
  {
   "cell_type": "code",
   "execution_count": 68,
   "metadata": {},
   "outputs": [],
   "source": [
    "features= list(df_merge.columns)\n",
    "features.remove('date')\n",
    "features.remove('rt3')\n",
    "features.remove('rt5')\n",
    "rt3features = sklearn.feature_selection.chi2(df_merge[features], df_merge['rt3'])\n",
    "rt5features = sklearn.feature_selection.chi2(df_merge[features], df_merge['rt5'])\n",
    "rt3selected = []\n",
    "rt5selected = []\n",
    "for i in range(0,len(features)):\n",
    "    if rt3features[1][i] < 0.1:\n",
    "        rt3selected.append(features[i])\n",
    "    if rt5features[1][i] < 0.1:\n",
    "        rt5selected.append(features[i])"
   ]
  },
  {
   "cell_type": "markdown",
   "metadata": {},
   "source": [
    "Train/Test Split"
   ]
  },
  {
   "cell_type": "code",
   "execution_count": 69,
   "metadata": {},
   "outputs": [],
   "source": [
    "lendf = len(df_merge)\n",
    "crit = int(np.floor(lendf*2/3))\n",
    "df_train = df_merge[:crit]\n",
    "df_test = df_merge[crit:]\n",
    "\n",
    "#extract train x and y\n",
    "xrt3_train = df_train[rt3selected]\n",
    "xrt5_train = df_train[rt5selected]\n",
    "yrt3_train = df_train['rt3']\n",
    "yrt5_train = df_train['rt5']\n",
    "\n",
    "#extract test x and y\n",
    "xrt3_test = df_test[rt3selected]\n",
    "xrt5_test = df_test[rt5selected]\n",
    "yrt3_test = df_test['rt3']\n",
    "yrt5_test = df_test['rt5']"
   ]
  },
  {
   "cell_type": "markdown",
   "metadata": {},
   "source": [
    "Naive Bayes Classifier"
   ]
  },
  {
   "cell_type": "code",
   "execution_count": 70,
   "metadata": {},
   "outputs": [],
   "source": [
    "def GNB(xfit, yfit, xpred, ypred):\n",
    "    #fit NB based on parameter\n",
    "    gnb = GaussianNB()\n",
    "    gnb.fit(xfit, yfit)\n",
    "    \n",
    "    #predict based on parameter\n",
    "    y_pred = gnb.predict(xpred)\n",
    "    ylist = list(ypred)\n",
    "    ypredlist = list(y_pred)\n",
    "    count = 0\n",
    "    for i in range(0, len(ypredlist)):\n",
    "        if ylist[i] == ypredlist[i]:\n",
    "            count = count + 1\n",
    "    print('Accuracy:', count/len(ypredlist))"
   ]
  },
  {
   "cell_type": "markdown",
   "metadata": {},
   "source": [
    "Train Accuracy rt3"
   ]
  },
  {
   "cell_type": "code",
   "execution_count": 71,
   "metadata": {},
   "outputs": [
    {
     "name": "stdout",
     "output_type": "stream",
     "text": [
      "Accuracy: 0.7270916334661355\n"
     ]
    }
   ],
   "source": [
    "GNB(xrt3_train, yrt3_train, xrt3_train, yrt3_train)"
   ]
  },
  {
   "cell_type": "markdown",
   "metadata": {},
   "source": [
    "Train Accuracy rt5"
   ]
  },
  {
   "cell_type": "code",
   "execution_count": 72,
   "metadata": {},
   "outputs": [
    {
     "name": "stdout",
     "output_type": "stream",
     "text": [
      "Accuracy: 0.6175298804780877\n"
     ]
    }
   ],
   "source": [
    "GNB(xrt5_train, yrt5_train, xrt5_train, yrt5_train)"
   ]
  },
  {
   "cell_type": "markdown",
   "metadata": {},
   "source": [
    "Test Accuracy rt3"
   ]
  },
  {
   "cell_type": "code",
   "execution_count": 73,
   "metadata": {},
   "outputs": [
    {
     "name": "stdout",
     "output_type": "stream",
     "text": [
      "Accuracy: 0.5258964143426295\n"
     ]
    }
   ],
   "source": [
    "GNB(xrt3_train, yrt3_train, xrt3_test, yrt3_test)"
   ]
  },
  {
   "cell_type": "markdown",
   "metadata": {},
   "source": [
    "Test Accuracy rt5"
   ]
  },
  {
   "cell_type": "code",
   "execution_count": 74,
   "metadata": {},
   "outputs": [
    {
     "name": "stdout",
     "output_type": "stream",
     "text": [
      "Accuracy: 0.4701195219123506\n"
     ]
    }
   ],
   "source": [
    "GNB(xrt5_train, yrt5_train, xrt5_test, yrt5_test)"
   ]
  },
  {
   "cell_type": "markdown",
   "metadata": {},
   "source": [
    "***Logistic Regression***"
   ]
  },
  {
   "cell_type": "markdown",
   "metadata": {},
   "source": [
    "Frame Database"
   ]
  },
  {
   "cell_type": "code",
   "execution_count": 75,
   "metadata": {},
   "outputs": [
    {
     "data": {
      "text/plain": [
       "(743, 1490)"
      ]
     },
     "execution_count": 75,
     "metadata": {},
     "output_type": "execute_result"
    }
   ],
   "source": [
    "df_tfidf['date'] = pd.to_datetime(df_tfidf['date'])\n",
    "df_volume['date'] = pd.to_datetime(df_volume['date'])\n",
    "df_target['date'] = pd.to_datetime(df_target['date'])\n",
    "df_temp = pd.merge(df_tfidf, df_volume, on='date', how='inner')\n",
    "df_merge = pd.merge(df_temp, df_target, on='date', how='inner')\n",
    "df_merge = df_merge[10:]\n",
    "df_merge.shape"
   ]
  },
  {
   "cell_type": "markdown",
   "metadata": {},
   "source": [
    "Train/Test Split"
   ]
  },
  {
   "cell_type": "code",
   "execution_count": 76,
   "metadata": {},
   "outputs": [],
   "source": [
    "add = ['st', 'mv1t', 'mv10t']"
   ]
  },
  {
   "cell_type": "code",
   "execution_count": 77,
   "metadata": {},
   "outputs": [],
   "source": [
    "lendf = len(df_merge)\n",
    "crit = int(np.floor(lendf*2/3))\n",
    "df_train = df_merge[:crit]\n",
    "df_test = df_merge[crit:]\n",
    "\n",
    "#extract train x and y\n",
    "xrt3_train = df_train[rt3selected + add]\n",
    "xrt5_train = df_train[rt5selected + add]\n",
    "yrt3_train = df_train['rt3']\n",
    "yrt5_train = df_train['rt5']\n",
    "\n",
    "#extract test x and y\n",
    "xrt3_test = df_test[rt3selected + add]\n",
    "xrt5_test = df_test[rt5selected + add]\n",
    "yrt3_test = df_test['rt3']\n",
    "yrt5_test = df_test['rt5']"
   ]
  },
  {
   "cell_type": "markdown",
   "metadata": {},
   "source": [
    "Logistic Regression"
   ]
  },
  {
   "cell_type": "code",
   "execution_count": 78,
   "metadata": {},
   "outputs": [],
   "source": [
    "def logisticreg_accuracy(x_train, y_train, x_test, y_test):   \n",
    "    clf = LogisticRegression().fit(x_train, y_train)\n",
    "    y_pred = clf.predict(x_test)\n",
    "    ypredlist = list(y_pred)\n",
    "    ytestlist = list(y_test)\n",
    "    count = 0\n",
    "    for i in range(0, len(ypredlist)):\n",
    "        if ypredlist[i] == ytestlist[i]:\n",
    "            count = count+1\n",
    "    print(count/len(ypredlist))"
   ]
  },
  {
   "cell_type": "markdown",
   "metadata": {},
   "source": [
    "Train Error for rt3"
   ]
  },
  {
   "cell_type": "code",
   "execution_count": 79,
   "metadata": {},
   "outputs": [
    {
     "name": "stdout",
     "output_type": "stream",
     "text": [
      "0.997979797979798\n"
     ]
    }
   ],
   "source": [
    "logisticreg_accuracy(xrt3_train, yrt3_train, xrt3_train, yrt3_train)"
   ]
  },
  {
   "cell_type": "markdown",
   "metadata": {},
   "source": [
    "Train Error for rt5"
   ]
  },
  {
   "cell_type": "code",
   "execution_count": 80,
   "metadata": {},
   "outputs": [
    {
     "name": "stdout",
     "output_type": "stream",
     "text": [
      "1.0\n"
     ]
    }
   ],
   "source": [
    "logisticreg_accuracy(xrt5_train, yrt5_train, xrt5_train, yrt5_train)"
   ]
  },
  {
   "cell_type": "markdown",
   "metadata": {},
   "source": [
    "Test Error for rt3"
   ]
  },
  {
   "cell_type": "code",
   "execution_count": 81,
   "metadata": {},
   "outputs": [
    {
     "name": "stdout",
     "output_type": "stream",
     "text": [
      "0.4959677419354839\n"
     ]
    }
   ],
   "source": [
    "logisticreg_accuracy(xrt3_train, yrt3_train, xrt3_test, yrt3_test)"
   ]
  },
  {
   "cell_type": "markdown",
   "metadata": {},
   "source": [
    "Test Error for rt5"
   ]
  },
  {
   "cell_type": "code",
   "execution_count": 82,
   "metadata": {},
   "outputs": [
    {
     "name": "stdout",
     "output_type": "stream",
     "text": [
      "0.4475806451612903\n"
     ]
    }
   ],
   "source": [
    "logisticreg_accuracy(xrt5_train, yrt5_train, xrt5_test, yrt5_test)"
   ]
  },
  {
   "cell_type": "code",
   "execution_count": null,
   "metadata": {},
   "outputs": [],
   "source": []
  }
 ],
 "metadata": {
  "kernelspec": {
   "display_name": "Python 3",
   "language": "python",
   "name": "python3"
  },
  "language_info": {
   "codemirror_mode": {
    "name": "ipython",
    "version": 3
   },
   "file_extension": ".py",
   "mimetype": "text/x-python",
   "name": "python",
   "nbconvert_exporter": "python",
   "pygments_lexer": "ipython3",
   "version": "3.7.4"
  }
 },
 "nbformat": 4,
 "nbformat_minor": 2
}
